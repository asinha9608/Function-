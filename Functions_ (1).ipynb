{
  "nbformat": 4,
  "nbformat_minor": 0,
  "metadata": {
    "colab": {
      "provenance": []
    },
    "kernelspec": {
      "name": "python3",
      "display_name": "Python 3"
    },
    "language_info": {
      "name": "python"
    }
  },
  "cells": [
    {
      "cell_type": "code",
      "execution_count": null,
      "metadata": {
        "id": "tFlNPWGkFRu4"
      },
      "outputs": [],
      "source": []
    },
    {
      "cell_type": "markdown",
      "source": [
        "   1. What is the difference between a function and a method in Python?"
      ],
      "metadata": {
        "id": "QY14u7uHFbXU"
      }
    },
    {
      "cell_type": "markdown",
      "source": [
        "   > In Python both functions and methods are used to perform specific tasks, but there's a key difference.\n",
        "   Functions- * Independent blocks of code- Functions are standalone blocks of code that can be called multiple times from different parts of your program.\n",
        "   * Defined outside classes- Functions are defined outside of classes or other functions.\n",
        "   * No implicit self parameter- Functions don't have an implicit self parameter.\n",
        "    Methods- * Belong to classes or objects- Methods are functions that belong to a class or object.\n",
        "    * Defined inside classes- Methods are defined inside classes.\n",
        "    * Implicit self parameter- Methods have an implicit self parameter, which refers to the instance of the class.\n",
        "   "
      ],
      "metadata": {
        "id": "xQCXVpLeF0zW"
      }
    },
    {
      "cell_type": "markdown",
      "source": [
        "   2. Explain the concept of function arguments and parameters in Python."
      ],
      "metadata": {
        "id": "0fvhNOP1X3B3"
      }
    },
    {
      "cell_type": "markdown",
      "source": [
        "   > In python, functions can accept inputs,which are specified as parameters in trhe function definition. When the function is called, the actual values passed to these parameters are called arguments.\n",
        "   Parameteres act as placeholders for the data that the function will operate on. They are defined within the parentheses in the function definition.\n",
        "   "
      ],
      "metadata": {
        "id": "doDl_fAMYAEm"
      }
    },
    {
      "cell_type": "markdown",
      "source": [
        "   3. What are the different ways to define and call a function in Python?"
      ],
      "metadata": {
        "id": "jG-wVI7DY3Jc"
      }
    },
    {
      "cell_type": "markdown",
      "source": [
        "   > Here are the different ways to define and call a function in Python.\n",
        "   using def keyword. This is the most commonn way to define a function.\n",
        "   Lambda functions- These are anonymous,small,one-line functions defined using the lambdad keyword.\n",
        "   Nested functions- Defining a function inside another functions.\n"
      ],
      "metadata": {
        "id": "6kQ_pQT7Y-Sq"
      }
    },
    {
      "cell_type": "markdown",
      "source": [
        "   4. What is the purpose of the `return` statement in a Python function?"
      ],
      "metadata": {
        "id": "5N1SEkStZ8IB"
      }
    },
    {
      "cell_type": "markdown",
      "source": [
        "   > The Python return statement marks the end of a function and specifies the value or values to pass back from the function. Return statements can return data of any type,including integers,floats,strings,lists,dictionaries,and even other functions.\n",
        "   "
      ],
      "metadata": {
        "id": "ftjUskfLaDwu"
      }
    },
    {
      "cell_type": "markdown",
      "source": [
        "   5. What are iterators in Python and how do they differ from iterables?"
      ],
      "metadata": {
        "id": "KD6mTQ1hasDT"
      }
    },
    {
      "cell_type": "markdown",
      "source": [
        "   > In Python,an iterable is any object that can return an iterator, allowing you to loop through its elements, while an iterator is an objectr that implements the iterator protocol  and remembers its state during iteration,enabling sequential access to elements."
      ],
      "metadata": {
        "id": "mpbd2t3qa07W"
      }
    },
    {
      "cell_type": "markdown",
      "source": [
        "   6. Explain the concept of generators in Python and how they are defined."
      ],
      "metadata": {
        "id": "n_B89c5NbpQR"
      }
    },
    {
      "cell_type": "markdown",
      "source": [
        "   > In Python,a generator is a special type of function that uses the yield keyword to produce a sequence of values lazily,menaing it generates values on demand rather than storing them all in memory at once. This makes them memory-efficient,especially for large or infinite sequnces.\n",
        "   "
      ],
      "metadata": {
        "id": "P4dTwkl8b06T"
      }
    },
    {
      "cell_type": "markdown",
      "source": [
        "   7. What are the advantages of using generators over regular functions?"
      ],
      "metadata": {
        "id": "-qE2DrEZcfX_"
      }
    },
    {
      "cell_type": "markdown",
      "source": [
        "   > Generators offer advantages over regular functions, particularly in memory efficiency and code readability,by generating values on demand and simplifying iteration logic.\n",
        "   Memory Efficiency- Generators are memory-efficient because they produce values on-the-fly,rather than storing the entire sequence in memory. This is especialluy beneficial when dealing with large or infinite sequences, as it avoids consuming excessive memory.\n",
        "   Lazy Evalution- Generators use lazy evalution, meaning they generate items only as needed, not all at once. This can significantly improve performance, especially when working with large datasets or streams of data."
      ],
      "metadata": {
        "id": "sV32Lhr-c0vo"
      }
    },
    {
      "cell_type": "markdown",
      "source": [
        "   8. What is a lambda function in Python and when is it typically used?"
      ],
      "metadata": {
        "id": "sRZclMjId-IQ"
      }
    },
    {
      "cell_type": "markdown",
      "source": [
        "    > In Python,a lambda function is a small,anonymous function defined using the lambda keyword, typically used for short, single-use operations,often within other functions like map,filter,or sorted.\n",
        "    * Anonymous- Lambda functions don't have a name.\n",
        "    * Single Expression- They can only contain a single expression,which is automatically returned.\n",
        "    * Syntax- Lambda a arguments expression."
      ],
      "metadata": {
        "id": "rhXYxwaWeFF3"
      }
    },
    {
      "cell_type": "markdown",
      "source": [
        "    9. Explain the purpose and usage of the `map()` function in Python."
      ],
      "metadata": {
        "id": "qM81Vlwpe_Dz"
      }
    },
    {
      "cell_type": "markdown",
      "source": [
        "   > The map() function in Python applies a given function to each item of an iterable and returns an iterator that yields the results. Its primary pupose is to transform data within an iterable without using explicit loops,leading to more without using explicit loops,leading to more concise and readable code.\n",
        "    In the example,the map () function applies the square () function to each element in the numvbers list. The result is a map object,which is then converted to a list to display the squared values."
      ],
      "metadata": {
        "id": "dDgHFr60fFqE"
      }
    },
    {
      "cell_type": "markdown",
      "source": [
        "   10. What is the difference between `map()`, `reduce()`, and `filter()` functions in Python?"
      ],
      "metadata": {
        "id": "FJ6VwWDFf91F"
      }
    },
    {
      "cell_type": "markdown",
      "source": [
        "   > The map(),filter(),and reduce() functions are built-in higher-order functions in Python that operate on iterables. They each serve different purposes.\n",
        "   map(): Applies a given function to each item in an iterable and returns a new iterable containing the results, it transforms each elements individually.\n",
        "   filter(): Creates a new iterable containing only the items from the original iterable for which a given function returns True. It selectively inclueds elements based on a condition.\n",
        "   reduce: Applies a function cumulatively to the items of an iterable, from left to right, to reduce it to a single value. It performs an aggregate computation."
      ],
      "metadata": {
        "id": "Is8iLzb9gGnD"
      }
    },
    {
      "cell_type": "markdown",
      "source": [
        "   11. Using pen & Paper write the internal mechanism for sum operation using  ,reduce function on this given list:(47,11,42,13).\n"
      ],
      "metadata": {
        "id": "Gozcfvh8hY-g"
      }
    },
    {
      "cell_type": "markdown",
      "source": [
        "   > * Initialize the List\n",
        "   List: [47,11,42,13]\n",
        "   * Apply the Reduce Function- The reduce function applies a binary function to all items in the list, going from left to right.\n",
        "   * Perform the Reduction\n",
        "   a. Initialize the accumulator with the first element:47\n",
        "   b. Add the second element to the accumulator: 47+11 = 58\n",
        "   c. Add the third element to the accumulator: 58+42 = 100\n",
        "   d. Add the fourth element to the accumulator: 100+13 = 113\n",
        "    \n",
        "  * Return the Fina Result\n",
        "   The final result of the reduce function is the accumulated sum: 113\n",
        "    Therefore, the sum of the elements in the list [47,11,42,13] using the reduce function is: 113.\n"
      ],
      "metadata": {
        "id": "_eaNGgzuiB7E"
      }
    },
    {
      "cell_type": "markdown",
      "source": [
        "                                # Practical Questions:\n"
      ],
      "metadata": {
        "id": "2gVATPGzgLCY"
      }
    },
    {
      "cell_type": "markdown",
      "source": [
        "   1. Write a Python function that takes a list of numbers as input and returns the sum of all even numbers in the list.\n"
      ],
      "metadata": {
        "id": "0_cZV7BrgVub"
      }
    },
    {
      "cell_type": "code",
      "source": [
        "def sum_even_numbers(numbers):\n",
        "  \"\"\"Returns the sum of all even numbers in the list.\n",
        "  Args:\n",
        "    numbers (list): A list of integers.\n",
        "    Returns:\n",
        "    int: The sum of all even numbers in the list.\n",
        "  \"\"\"\n",
        "  return sum(num for num in numbers if num % 2 == 0)\n",
        "numbers = [1, 2, 3, 4, 5, 6, 7, 8, 9, 10]\n",
        "result = sum_even_numbers(numbers)\n",
        "print(result)\n",
        "    Returns:\n",
        "    int: The sum of all even numbers in the list.\n",
        "    return sum(num for num in numbers if num % 2 == 0)\n",
        "    numbers = [1, 2, 3, 4, 5, 6, 7, 8, 9, 10]\n",
        "    result = sum_even_numbers(numbers)\n",
        "    print(result)"
      ],
      "metadata": {
        "colab": {
          "base_uri": "https://localhost:8080/",
          "height": 106
        },
        "id": "2lot25nui1dP",
        "outputId": "f74f5f4c-9fc3-4e92-99e6-d99072c8fa98"
      },
      "execution_count": 6,
      "outputs": [
        {
          "output_type": "error",
          "ename": "SyntaxError",
          "evalue": "invalid syntax (<ipython-input-6-3d9cdef772fa>, line 2)",
          "traceback": [
            "\u001b[0;36m  File \u001b[0;32m\"<ipython-input-6-3d9cdef772fa>\"\u001b[0;36m, line \u001b[0;32m2\u001b[0m\n\u001b[0;31m    Returns the sum of all even numbers in the list.\u001b[0m\n\u001b[0m            ^\u001b[0m\n\u001b[0;31mSyntaxError\u001b[0m\u001b[0;31m:\u001b[0m invalid syntax\n"
          ]
        }
      ]
    },
    {
      "cell_type": "markdown",
      "source": [
        "   2. Create a Python function that accepts a string and returns the reverse of that string."
      ],
      "metadata": {
        "id": "N1MIkHeIkHYX"
      }
    },
    {
      "cell_type": "code",
      "source": [
        "def reverse_string(s):\n",
        "  \"\"\"Returns the reverse of the input string.\n",
        "  Args:\n",
        "     s (str): The input string.\n",
        "  Returns:\n",
        "    str: The reversed string.\n",
        "    \"\"\"\n",
        "    return s[::-1]\n",
        "\n",
        "example:-\n",
        "    input_string = \"Hello, World!\"\n",
        "    reversed_string = reverse_string(input_string)\n",
        "    Print(\"reversed string\")\n",
        "\n",
        "\n"
      ],
      "metadata": {
        "id": "B9CRy-sTkOcH"
      },
      "execution_count": null,
      "outputs": []
    },
    {
      "cell_type": "markdown",
      "source": [
        "   3. Implement a Python function that takes a list of integers and returns a new list containing the squares of each numbers.\n",
        "\n"
      ],
      "metadata": {
        "id": "zpZIp9oPmVd_"
      }
    },
    {
      "cell_type": "code",
      "source": [
        "def square_numbers(numbers):\n",
        "  \"\"\"Returns a new list containing the squares of each number in the input list.\n",
        "  Args:\n",
        "    numbers (list): A list of integers.\n",
        "    Returns:\n",
        "    list: A new list containing the squares of each number.\n",
        "    \"\"\"\n",
        "    return [num ** 2 for num in numbers]\n",
        "    numbers = [1, 2, 3, 4, 5]\n",
        "    squared_numbers = square_numbers(numbers)\n",
        "    print(squared_numbers)"
      ],
      "metadata": {
        "id": "9nX-m4wtmgy7"
      },
      "execution_count": null,
      "outputs": []
    },
    {
      "cell_type": "markdown",
      "source": [
        "    4. Write a Python function that checks if a given number is prime or not from 1 to 200."
      ],
      "metadata": {
        "id": "uMJ8U6jZsvds"
      }
    },
    {
      "cell_type": "code",
      "source": [
        "def is_prime(n)\n",
        "    \"\"\"checks if a number is prime.\n",
        "    Args:\n",
        "       n(int): The number to check.\n",
        "   Returns:\n",
        "         bool: True if the number s prime, False otherwise.\n",
        "         \"\"\" if n < 2\n",
        "           return False\n",
        "           return True\n",
        "  def check_prime_in_range(start,end):\n",
        "    \"\"\" Checksfor prime numbers within a given range.\n",
        "    Args:\n",
        "         start (int): The start of the range (inclusive):\n",
        "           end (int): The end of the range (inclusive):\n",
        "           Returns:\n",
        "           list: A list of prime numbers within the range.\n",
        "           \"\"\"\n",
        "              prime = []\n",
        "              for num in range(start,end + 1):\n",
        "                if is prime(num):\n",
        "                  primes.append(num)return primes\n"
      ],
      "metadata": {
        "id": "TF_2ZPDIs2VR"
      },
      "execution_count": null,
      "outputs": []
    },
    {
      "cell_type": "markdown",
      "source": [
        "   5. Create an iterator class in Python that generates the Fibonacci sequence up to a specified number of terms.\n",
        "   \n",
        "\n",
        "\n"
      ],
      "metadata": {
        "id": "s_KnCWjSvy-U"
      }
    },
    {
      "cell_type": "code",
      "source": [
        "class FibonacciIterator:\n",
        "    \"\"\"\n",
        "    An iterator class that generates the Fibonacci sequence up to a specified number of terms.\n",
        "    \"\"\"\n",
        "\n",
        "    def __init__(self, num_terms):\n",
        "        self.num_terms = num_terms\n",
        "        self.current_term = 0\n",
        "        self.next_term = 1\n",
        "        self.count = 0\n",
        "\n",
        "    def __iter__(self):\n",
        "        return self\n",
        "\n",
        "    def __next__(self):\n",
        "        if self.count < self.num_terms:\n",
        "            result = self.current_term\n",
        "            self.current_term, self.next_term = self.next_term, self.current_term + self.next_term\n",
        "            self.count += 1\n",
        "            return result\n",
        "        else:\n",
        "            raise StopIteration\n",
        "\n",
        "num_terms = 10\n",
        "fib_iterator = FibonacciIterator(num_terms)  # Use the correct class name\n",
        "for term in fib_iterator:\n",
        "    print(term)"
      ],
      "metadata": {
        "colab": {
          "base_uri": "https://localhost:8080/"
        },
        "id": "sjwCPKU3w5Bv",
        "outputId": "efa14233-6383-4157-dd23-58b452a8d317"
      },
      "execution_count": 2,
      "outputs": [
        {
          "output_type": "stream",
          "name": "stdout",
          "text": [
            "0\n",
            "1\n",
            "1\n",
            "2\n",
            "3\n",
            "5\n",
            "8\n",
            "13\n",
            "21\n",
            "34\n"
          ]
        }
      ]
    },
    {
      "cell_type": "markdown",
      "source": [
        "   6.  Write a generator function in Python that yields the powers of 2 up to a given exponent."
      ],
      "metadata": {
        "id": "KS0wPo4qyxTs"
      }
    },
    {
      "cell_type": "code",
      "source": [
        "def power_of_two(exponent):\n",
        "  \"\"\"\n",
        "  Yields the power of 2 up to the given exponent.\n",
        "  Args:\n",
        "      exponent (int): The maximum exponent.\n",
        "      Yields:\n",
        "      int: The power of 2 for each exponent from 0 to given exponent.\n",
        "      \"\"\"\n",
        "  for i in range(exponent + 1):\n",
        "    yield 2 ** i # Corrected the indentation of the yield statement\n",
        "  exponent = 5\n",
        "  for power in power_of_two(exponent):\n",
        "    print(power)"
      ],
      "metadata": {
        "id": "lVM3NELQ24Vt"
      },
      "execution_count": 7,
      "outputs": []
    },
    {
      "cell_type": "markdown",
      "source": [
        "   7. Implement a generator function that reads a file line by line and yields each line as a string."
      ],
      "metadata": {
        "id": "r2ds0IGy3IfO"
      }
    },
    {
      "cell_type": "code",
      "source": [
        "   def read_line_by_line(filename):\n",
        "    \"\"\"\n",
        "    Yields each line in the file as a string.\n",
        "\n",
        "    Args:\n",
        "         filename (str): The name of the file to read.\n",
        "         Yields:\n",
        "                str:Each line in the file .\n",
        "                \"\"\"\n",
        "                   try:\n",
        "                       with open(filename, 'r') as file:\n",
        "                           for line in file:\n",
        "                               yield line.strip()\n",
        "                    except FileNotFoundError:\n",
        "                        print(f\"File '{filename}' not found.\"\n",
        "\n"
      ],
      "metadata": {
        "id": "N6niHZz16LWJ"
      },
      "execution_count": null,
      "outputs": []
    },
    {
      "cell_type": "markdown",
      "source": [
        "   8. Use a lambda function in Python to sort a list of tuples based on the second element of each tuple."
      ],
      "metadata": {
        "id": "gMzc6qoc75w7"
      }
    },
    {
      "cell_type": "code",
      "source": [
        "tuples = [(3,6), (1,9), (1,9), (2,4), (4,1), (5,7)]\n",
        "sorted_tuples = sorted(tuples, key=lambda x: x[1])\n",
        "print(sorted_tuples)"
      ],
      "metadata": {
        "colab": {
          "base_uri": "https://localhost:8080/"
        },
        "id": "X7ZmuAQO8Hfb",
        "outputId": "84b90123-be3d-4af4-a623-f8c0c1c8a8cf"
      },
      "execution_count": 3,
      "outputs": [
        {
          "output_type": "stream",
          "name": "stdout",
          "text": [
            "[(4, 1), (2, 4), (3, 6), (5, 7), (1, 9), (1, 9)]\n"
          ]
        }
      ]
    },
    {
      "cell_type": "markdown",
      "source": [
        "   9. Write a Python program that uses `map()` to convert a list of temperatures from Celsius to Fahrenheit."
      ],
      "metadata": {
        "id": "r9kS6tsF9Eob"
      }
    },
    {
      "cell_type": "code",
      "source": [
        "def celsius_to_fahrenheit(celsius):\n",
        "  return (celsius * 9/5) + 32\n",
        "celsius_temperatures = [0, 10, 20, 30, 40]\n",
        "fahrenheit_temperatures = list(map(celsius_to_fahrenheit, celsius_temperatures))\n",
        "print(fahrenheit_temperatures)"
      ],
      "metadata": {
        "colab": {
          "base_uri": "https://localhost:8080/"
        },
        "id": "3qn5c22P9Kw9",
        "outputId": "fd145b87-4021-4f59-c1fe-e126dbf93bf4"
      },
      "execution_count": 4,
      "outputs": [
        {
          "output_type": "stream",
          "name": "stdout",
          "text": [
            "[32.0, 50.0, 68.0, 86.0, 104.0]\n"
          ]
        }
      ]
    },
    {
      "cell_type": "markdown",
      "source": [
        "   10. Create a Python program that uses `filter()` to remove all the vowels from a given string."
      ],
      "metadata": {
        "id": "vhPFGtwU93Ft"
      }
    },
    {
      "cell_type": "code",
      "source": [
        "def is_not_vowel(char):\n",
        "  return char.lower() not in 'aeiou'\n",
        "input_string = \"Hello, World!\"\n",
        "filtered_string = ''.join(filter(is_not_vowel, input_string))\n",
        "print(filtered_string)"
      ],
      "metadata": {
        "colab": {
          "base_uri": "https://localhost:8080/"
        },
        "id": "EONr1mfR9-GY",
        "outputId": "2518d385-d0e4-470d-cf92-a805a9d71976"
      },
      "execution_count": 5,
      "outputs": [
        {
          "output_type": "stream",
          "name": "stdout",
          "text": [
            "Hll, Wrld!\n"
          ]
        }
      ]
    },
    {
      "cell_type": "markdown",
      "source": [
        "   >"
      ],
      "metadata": {
        "id": "e7Mh8LFkFl2g"
      }
    }
  ]
}